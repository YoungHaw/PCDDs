{
 "cells": [
  {
   "cell_type": "markdown",
   "id": "1cf6dbfd",
   "metadata": {},
   "source": [
    "# Variance filtering"
   ]
  },
  {
   "cell_type": "code",
   "execution_count": null,
   "id": "992b2865",
   "metadata": {},
   "outputs": [],
   "source": [
    "import pandas as pd\n",
    "import numpy as np\n",
    "from scipy.stats import pearsonr\n",
    "import pandas as pd\n",
    "import numpy as np\n",
    "from sklearn.feature_selection import VarianceThreshold\n",
    "import pandas as pd\n",
    "from sklearn.datasets import load_breast_cancer\n",
    "from sklearn.feature_selection import VarianceThreshold\n",
    "\n",
    "\n",
    "data = pd.read_excel(\"\")\n",
    "X = data.iloc[:,0:]\n",
    "\n",
    "\n",
    "selector = VarianceThreshold(threshold=0.01)\n",
    "X_new = selector.fit_transform(X)\n",
    "\n",
    "\n",
    "print( X.shape[1])\n",
    "print(X_new.shape[1])\n",
    "print( X.columns[selector.get_support()])"
   ]
  },
  {
   "cell_type": "code",
   "execution_count": null,
   "id": "1cbb1fcb",
   "metadata": {},
   "outputs": [],
   "source": [
    "df = pd.DataFrame(X_new )\n",
    "writer = pd.ExcelWriter('')  \n",
    "df.to_excel(writer,'page_1',float_format='%.5f') \n",
    "writer.save()  "
   ]
  },
  {
   "cell_type": "markdown",
   "id": "c653ed4b",
   "metadata": {},
   "source": [
    "# PCC"
   ]
  },
  {
   "cell_type": "code",
   "execution_count": null,
   "id": "ad848afe",
   "metadata": {},
   "outputs": [],
   "source": [
    "df1 = pd.DataFrame(X.columns[selector.get_support()])\n",
    "writer = pd.ExcelWriter('')  \n",
    "df1.to_excel(writer,'page_1',float_format='%.5f')  \n",
    "writer.save()  "
   ]
  },
  {
   "cell_type": "code",
   "execution_count": null,
   "id": "999d601e",
   "metadata": {},
   "outputs": [],
   "source": [
    "dataSet = pd.read_excel(\"\")\n",
    "pearson_result=dataSet.corr()\n",
    "pearson_result.to_excel(\"\")"
   ]
  },
  {
   "cell_type": "code",
   "execution_count": null,
   "id": "e5bf1a8c",
   "metadata": {},
   "outputs": [],
   "source": [
    "def excuteFilter(x,pearson_result,dataSet,path):\n",
    "    header=pearson_result.columns\n",
    "    data = pearson_result.values\n",
    "    indices = np.triu_indices_from(data)\n",
    "    [rows, cols] = data.shape\n",
    "    addlist = [] \n",
    "    removelist = [] \n",
    "    removeindex = [] \n",
    "    for i in range(rows):\n",
    "        if header[i] not in removelist:\n",
    "            for j in range(cols):\n",
    "                if j < i:\n",
    "                    if data[i,j]>x or data[i,j]<-x:\n",
    "                        if header[j] in addlist:\n",
    "                            if header[i] not in removelist: \n",
    "                                removelist.append(header[i])\n",
    "                                continue\n",
    "                        if header[i] not in addlist: \n",
    "                            addlist.append(header[i])\n",
    "                        if header[j] not in removelist: \n",
    "                             removelist.append(header[j])\n",
    "    retainList = []\n",
    "    for col in header:\n",
    "        if col not in removelist:\n",
    "            retainList.append(col)\n",
    "            print(col)\n",
    "    dataSet[retainList].to_excel(path,index = False)"
   ]
  },
  {
   "cell_type": "code",
   "execution_count": null,
   "id": "4aecb871",
   "metadata": {},
   "outputs": [],
   "source": [
    "excuteFilter(0.85,pearson_result,dataSet,)"
   ]
  },
  {
   "cell_type": "code",
   "execution_count": null,
   "id": "4547e5b6",
   "metadata": {},
   "outputs": [],
   "source": [
    "import seaborn as sns\n",
    "import matplotlib.pyplot as plt\n",
    "\n",
    "dataframe = pd.read_excel(\"\")\n",
    "dcorr=dataframe.corr()\n",
    "plt.rcParams['font.sans-serif']=['Times New Roman'] \n",
    "plt.rcParams['axes.unicode_minus']=False\n",
    "plt.rcParams['xtick.labelsize']=20\n",
    "plt.rcParams['ytick.labelsize']=20\n",
    "plt.subplots(figsize=(30, 30))\n",
    "fig=sns.heatmap(dcorr,\n",
    "            cmap='Purples',\n",
    "            annot=True,\n",
    "            annot_kws={'size':20},\n",
    "            fmt=\".2f\",\n",
    "            mask=np.triu(np.ones_like(dcorr,dtype=bool)) \n",
    "           )\n",
    "fig_path=; \n",
    "heatmap = fig.get_figure()\n",
    "heatmap.savefig(fig_path, dpi = 400) "
   ]
  },
  {
   "cell_type": "markdown",
   "id": "9d47113f",
   "metadata": {},
   "source": [
    "# RFE"
   ]
  },
  {
   "cell_type": "code",
   "execution_count": null,
   "id": "84042c51",
   "metadata": {},
   "outputs": [],
   "source": [
    "from sklearn.ensemble import RandomForestRegressor\n",
    "from sklearn.model_selection import train_test_split\n",
    "from sklearn.metrics import mean_squared_error\n",
    "import pandas as pd\n",
    "import numpy as np\n",
    "from sklearn.metrics import r2_score\n",
    "import matplotlib.pyplot as plt\n",
    "import warnings\n",
    "warnings.filterwarnings(\"ignore\")\n",
    "import os"
   ]
  },
  {
   "cell_type": "code",
   "execution_count": null,
   "id": "b2d96025",
   "metadata": {},
   "outputs": [],
   "source": [
    "data = pd.read_excel(\"\")\n",
    "X = data.iloc[:, 1:-1]  \n",
    "y = data.iloc[:, -1]  "
   ]
  },
  {
   "cell_type": "code",
   "execution_count": null,
   "id": "e870abe8",
   "metadata": {},
   "outputs": [],
   "source": [
    "model = RandomForestRegressor(n_estimators=, random_state=)\n",
    "model.fit(X, y)"
   ]
  },
  {
   "cell_type": "code",
   "execution_count": null,
   "id": "d3988044",
   "metadata": {},
   "outputs": [],
   "source": [
    "y_pred = model.predict(X)\n",
    "y_pred"
   ]
  },
  {
   "cell_type": "code",
   "execution_count": null,
   "id": "57999740",
   "metadata": {},
   "outputs": [],
   "source": [
    "from sklearn.metrics import r2_score\n",
    "R2 = r2_score(y, y_pred)\n",
    "R2"
   ]
  },
  {
   "cell_type": "code",
   "execution_count": null,
   "id": "61af8b19",
   "metadata": {},
   "outputs": [],
   "source": [
    "feature_importances = model.feature_importances_\n",
    "print(feature_importances)"
   ]
  },
  {
   "cell_type": "code",
   "execution_count": null,
   "id": "bd5d9a43",
   "metadata": {},
   "outputs": [],
   "source": [
    "\n",
    "from sklearn.feature_selection import RFE\n",
    "\n",
    "score = []                                                            \n",
    "for i in range(3, 17, 1):\n",
    "    X_wrapper = RFE(model, n_features_to_select=i, step=1).fit_transform(X, y)    #\n",
    "    model.fit(X_wrapper, \n",
    "    y_pred1 = model.predict(X_wrapper)\n",
    "    R2 = r2_score(y, y_pred1)                                                                                           \n",
    "    score.append(R2)                                                           \n",
    "print(max(score ), (score .index(max(score ))*1)+1)                                \n",
    "print(score )\n",
    "plt.figure(figsize=[20, 5])\n",
    "plt.plot(range(3, 17, 1), score )\n",
    "plt.xticks(range(3, 17, 1))\n",
    "\n",
    "plt.show()"
   ]
  },
  {
   "cell_type": "code",
   "execution_count": null,
   "id": "bb034b6c",
   "metadata": {},
   "outputs": [],
   "source": [
    "selector1 = RFE(model, n_features_to_select=8, step=1).fit(X, y)       \n",
    "selector1.support_.sum()\n",
    "print(selector1.n_features_)                                    \n",
    "X_wrapper1 = selector1.transform(X) "
   ]
  },
  {
   "cell_type": "code",
   "execution_count": null,
   "id": "134c1625",
   "metadata": {},
   "outputs": [],
   "source": [
    "dataframe = pd.DataFrame(X_wrapper1)  \n",
    "dataframe.to_excel(\"\",index=True)"
   ]
  },
  {
   "cell_type": "markdown",
   "id": "9ed739f8",
   "metadata": {},
   "source": [
    "# XGBoost"
   ]
  },
  {
   "cell_type": "code",
   "execution_count": null,
   "id": "fde48fa6",
   "metadata": {},
   "outputs": [],
   "source": [
    "import numpy as np\n",
    "import pandas as pd\n",
    "import matplotlib.pyplot as plt\n",
    "pd.set_option('display.max_rows',None)\n",
    "pd.set_option('display.max_columns',None)\n",
    "data=pd.read_excel('')\n",
    "data"
   ]
  },
  {
   "cell_type": "code",
   "execution_count": null,
   "id": "18c6050a",
   "metadata": {},
   "outputs": [],
   "source": [
    "X=data.iloc[:,2:]\n",
    "Y=data.iloc[:,1]"
   ]
  },
  {
   "cell_type": "code",
   "execution_count": null,
   "id": "f50604fb",
   "metadata": {},
   "outputs": [],
   "source": [
    "from sklearn.model_selection import train_test_split\n",
    "x_train,x_test,y_train,y_test=train_test_split(X,Y,test_size = 0.2,random_state=28)\n",
    "from xgboost import XGBRegressor\n",
    "import xgboost as xgb\n",
    "from sklearn.metrics import mean_squared_error\n",
    "from sklearn.metrics import r2_score\n",
    "from sklearn.metrics import mean_absolute_error\n",
    "from sklearn.metrics import mean_absolute_percentage_error"
   ]
  },
  {
   "cell_type": "code",
   "execution_count": null,
   "id": "6b7d900b",
   "metadata": {},
   "outputs": [],
   "source": [
    "xgb_model=xgb.XGBRegressor(\n",
    "        random_state=,\n",
    "        n_estimators=,\n",
    "        max_depth=,\n",
    "        eta=,\n",
    "        subsample=\n",
    "    )\n",
    "xgb_model.fit(x_train,y_train)\n",
    "y_pred=xgb_model.predict(x_test)\n",
    "R2 = r2_score(y_test,y_pred)\n",
    "R2"
   ]
  },
  {
   "cell_type": "code",
   "execution_count": null,
   "id": "a5efa536",
   "metadata": {},
   "outputs": [],
   "source": [
    "MSE = mean_squared_error(y_test,y_pred)\n",
    "MSE"
   ]
  },
  {
   "cell_type": "code",
   "execution_count": null,
   "id": "49709e43",
   "metadata": {},
   "outputs": [],
   "source": [
    "MAE = mean_absolute_error(y_test,y_pred)\n",
    "MAE"
   ]
  },
  {
   "cell_type": "code",
   "execution_count": null,
   "id": "f8266511",
   "metadata": {},
   "outputs": [],
   "source": [
    "MAPE = mean_absolute_percentage_error(y_test,y_pred)\n",
    "MAPE"
   ]
  },
  {
   "cell_type": "code",
   "execution_count": null,
   "id": "48591cda",
   "metadata": {},
   "outputs": [],
   "source": [
    "data=pd.read_excel('')\n",
    "X3=data.iloc[:,2:]\n",
    "Y3=data.iloc[:,1]\n",
    "y_p3=xgb_model.predict(X3)\n",
    "R4 = r2_score(Y3,y_p3)\n",
    "R4"
   ]
  },
  {
   "cell_type": "code",
   "execution_count": null,
   "id": "e83f3988",
   "metadata": {},
   "outputs": [],
   "source": [
    "data=pd.read_excel('')\n",
    "X4=data.iloc[:,2:]\n",
    "X4\n",
    "y_p4=xgb_model.predict(X4)\n",
    "y_p4"
   ]
  },
  {
   "cell_type": "code",
   "execution_count": null,
   "id": "5220dd1a",
   "metadata": {},
   "outputs": [],
   "source": [
    "data=pd.read_excel('')\n",
    "X2=data.iloc[:,2:]\n",
    "Y2=data.iloc[:,1]\n",
    "y_p2=xgb_model.predict(X2)\n",
    "R3 = r2_score(Y2,y_p2)\n",
    "R3"
   ]
  },
  {
   "cell_type": "code",
   "execution_count": null,
   "id": "513a7ad2",
   "metadata": {},
   "outputs": [],
   "source": [
    "%matplotlib inline\n",
    "import shap\n",
    "shap.initjs()"
   ]
  },
  {
   "cell_type": "code",
   "execution_count": null,
   "id": "7949443e",
   "metadata": {},
   "outputs": [],
   "source": [
    "explainer = shap.TreeExplainer(xgb_model, data=x_train)\n",
    "shap_values = explainer.shap_values(x_train)"
   ]
  },
  {
   "cell_type": "code",
   "execution_count": null,
   "id": "cab29a37",
   "metadata": {},
   "outputs": [],
   "source": [
    "shap.summary_plot(shap_values=shap_values,\n",
    "                  features=x_train,\n",
    "                  plot_type=\"bar\",show = False)\n",
    "plt.savefig(\"index-xgboost.jpg\", dpi = 300)"
   ]
  },
  {
   "cell_type": "markdown",
   "id": "6f5310f6",
   "metadata": {},
   "source": [
    "# Decision tree"
   ]
  },
  {
   "cell_type": "code",
   "execution_count": null,
   "id": "56f09b64",
   "metadata": {},
   "outputs": [],
   "source": [
    "model_DecisionTreeRegressor = tree.DecisionTreeRegressor(\n",
    "        random_state=,\n",
    "        max_features=\n",
    "    )\n",
    "model_DecisionTreeRegressor.fit(x_train,y_train)"
   ]
  },
  {
   "cell_type": "markdown",
   "id": "88044e02",
   "metadata": {},
   "source": [
    "# Multiple Linear Regression"
   ]
  },
  {
   "cell_type": "code",
   "execution_count": null,
   "id": "a77c9096",
   "metadata": {},
   "outputs": [],
   "source": [
    "lr= LinearRegression(\n",
    "        n_jobs=-1,\n",
    "        fit_intercept=False\n",
    ")\n",
    "    lr.fit(x_train,y_train)"
   ]
  },
  {
   "cell_type": "markdown",
   "id": "27ff197a",
   "metadata": {},
   "source": [
    "# bayesian"
   ]
  },
  {
   "cell_type": "code",
   "execution_count": null,
   "id": "d8b03ef3",
   "metadata": {},
   "outputs": [],
   "source": [
    "    model_BayesianRidge = BayesianRidge(\n",
    "        tol=\n",
    "    )\n",
    "    model_BayesianRidge.fit(x_train,y_train)"
   ]
  },
  {
   "cell_type": "markdown",
   "id": "b05c60aa",
   "metadata": {},
   "source": [
    "# RandomForest"
   ]
  },
  {
   "cell_type": "code",
   "execution_count": null,
   "id": "9aa54377",
   "metadata": {},
   "outputs": [],
   "source": [
    "RF = RandomForestRegressor(\n",
    "    random_state=,\n",
    "    n_estimators=,\n",
    "    max_depth=,\n",
    "    max_features=,\n",
    "    min_samples_split=\n",
    ")\n",
    "RF.fit(x_train,y_train)"
   ]
  },
  {
   "cell_type": "markdown",
   "id": "6770a89a",
   "metadata": {},
   "source": [
    "# stack model"
   ]
  },
  {
   "cell_type": "code",
   "execution_count": null,
   "id": "354acd54",
   "metadata": {},
   "outputs": [],
   "source": [
    "estimators = [\n",
    "        ('xg', XGBRegressor(random_state=, n_estimators=, max_depth=, eta=, subsample=)),\n",
    "        ('ba', BayesianRidge(\n",
    "              tol=\n",
    "))\n",
    "]\n",
    "xgb_model = StackingRegressor(\n",
    "estimators=estimators,\n",
    "  )\n",
    "xgb_model.fit(x_train,y_train)\n",
    "y_pred = xgb_model.predict(x_test)"
   ]
  },
  {
   "cell_type": "code",
   "execution_count": null,
   "id": "f0c028c0",
   "metadata": {},
   "outputs": [],
   "source": []
  }
 ],
 "metadata": {
  "kernelspec": {
   "display_name": "Python 3 (ipykernel)",
   "language": "python",
   "name": "python3"
  },
  "language_info": {
   "codemirror_mode": {
    "name": "ipython",
    "version": 3
   },
   "file_extension": ".py",
   "mimetype": "text/x-python",
   "name": "python",
   "nbconvert_exporter": "python",
   "pygments_lexer": "ipython3",
   "version": "3.9.19"
  }
 },
 "nbformat": 4,
 "nbformat_minor": 5
}
